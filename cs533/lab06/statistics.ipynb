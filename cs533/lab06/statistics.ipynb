{
 "cells": [
  {
   "cell_type": "markdown",
   "metadata": {},
   "source": [
    "# Lab 06 - Statistics\n",
    "Tyler Bevan\n",
    "\n",
    "## Unit 47"
   ]
  },
  {
   "cell_type": "code",
   "execution_count": 63,
   "metadata": {},
   "outputs": [
    {
     "data": {
      "text/plain": [
       "0.9709778539165477"
      ]
     },
     "execution_count": 63,
     "metadata": {},
     "output_type": "execute_result"
    }
   ],
   "source": [
    "import pandas as pd\n",
    "alco = pd.read_csv('niaaa.csv')\n",
    "alco = alco.fillna(method='ffill')\n",
    "# I changed mine to have a multiindex so the years are an index.\n",
    "alco[\"Year\"] = alco[\"Year\"].map(lambda x : int(x))\n",
    "multi = pd.MultiIndex.from_tuples(list(zip(alco['State'], alco['Year'])), names=[\"State\", \"Year\"])\n",
    "alco.index=multi\n",
    "alco = alco.drop(columns=[\"State\", \"Year\"])\n",
    "\n",
    "beer_seriesNY = alco.loc['New York'][\"Beer\"]\n",
    "beer_seriesCA = alco.loc['California'][\"Beer\"]\n",
    "\n",
    "beer_seriesNY.corr(beer_seriesCA)"
   ]
  },
  {
   "cell_type": "code",
   "execution_count": 37,
   "metadata": {},
   "outputs": [
    {
     "data": {
      "text/plain": [
       "0.01743816287878787"
      ]
     },
     "execution_count": 37,
     "metadata": {},
     "output_type": "execute_result"
    }
   ],
   "source": [
    "beer_seriesCA.cov(beer_seriesNY)"
   ]
  },
  {
   "cell_type": "code",
   "execution_count": 38,
   "metadata": {},
   "outputs": [
    {
     "data": {
      "text/plain": [
       "[0.16457291292976317, 0.32838100586311286]"
      ]
     },
     "execution_count": 38,
     "metadata": {},
     "output_type": "execute_result"
    }
   ],
   "source": [
    "[x.skew() for x in (beer_seriesCA, beer_seriesNY)]"
   ]
  },
  {
   "cell_type": "code",
   "execution_count": 40,
   "metadata": {},
   "outputs": [
    {
     "data": {
      "text/plain": [
       "Beer       0.328381\n",
       "Wine       0.127308\n",
       "Spirits    0.656699\n",
       "dtype: float64"
      ]
     },
     "execution_count": 40,
     "metadata": {},
     "output_type": "execute_result"
    }
   ],
   "source": [
    "frameNY = alco.loc['New York']\n",
    "frameNY.skew()"
   ]
  },
  {
   "cell_type": "code",
   "execution_count": 41,
   "metadata": {},
   "outputs": [
    {
     "data": {
      "text/html": [
       "<div>\n",
       "<style scoped>\n",
       "    .dataframe tbody tr th:only-of-type {\n",
       "        vertical-align: middle;\n",
       "    }\n",
       "\n",
       "    .dataframe tbody tr th {\n",
       "        vertical-align: top;\n",
       "    }\n",
       "\n",
       "    .dataframe thead th {\n",
       "        text-align: right;\n",
       "    }\n",
       "</style>\n",
       "<table border=\"1\" class=\"dataframe\">\n",
       "  <thead>\n",
       "    <tr style=\"text-align: right;\">\n",
       "      <th></th>\n",
       "      <th>Beer</th>\n",
       "      <th>Wine</th>\n",
       "      <th>Spirits</th>\n",
       "    </tr>\n",
       "  </thead>\n",
       "  <tbody>\n",
       "    <tr>\n",
       "      <th>Beer</th>\n",
       "      <td>1.000000</td>\n",
       "      <td>0.470690</td>\n",
       "      <td>0.908969</td>\n",
       "    </tr>\n",
       "    <tr>\n",
       "      <th>Wine</th>\n",
       "      <td>0.470690</td>\n",
       "      <td>1.000000</td>\n",
       "      <td>0.611923</td>\n",
       "    </tr>\n",
       "    <tr>\n",
       "      <th>Spirits</th>\n",
       "      <td>0.908969</td>\n",
       "      <td>0.611923</td>\n",
       "      <td>1.000000</td>\n",
       "    </tr>\n",
       "  </tbody>\n",
       "</table>\n",
       "</div>"
      ],
      "text/plain": [
       "             Beer      Wine   Spirits\n",
       "Beer     1.000000  0.470690  0.908969\n",
       "Wine     0.470690  1.000000  0.611923\n",
       "Spirits  0.908969  0.611923  1.000000"
      ]
     },
     "execution_count": 41,
     "metadata": {},
     "output_type": "execute_result"
    }
   ],
   "source": [
    "frameNY.corr()"
   ]
  },
  {
   "cell_type": "code",
   "execution_count": 42,
   "metadata": {},
   "outputs": [
    {
     "data": {
      "text/html": [
       "<div>\n",
       "<style scoped>\n",
       "    .dataframe tbody tr th:only-of-type {\n",
       "        vertical-align: middle;\n",
       "    }\n",
       "\n",
       "    .dataframe tbody tr th {\n",
       "        vertical-align: top;\n",
       "    }\n",
       "\n",
       "    .dataframe thead th {\n",
       "        text-align: right;\n",
       "    }\n",
       "</style>\n",
       "<table border=\"1\" class=\"dataframe\">\n",
       "  <thead>\n",
       "    <tr style=\"text-align: right;\">\n",
       "      <th></th>\n",
       "      <th>Beer</th>\n",
       "      <th>Wine</th>\n",
       "      <th>Spirits</th>\n",
       "    </tr>\n",
       "  </thead>\n",
       "  <tbody>\n",
       "    <tr>\n",
       "      <th>Beer</th>\n",
       "      <td>0.016103</td>\n",
       "      <td>0.002872</td>\n",
       "      <td>0.026020</td>\n",
       "    </tr>\n",
       "    <tr>\n",
       "      <th>Wine</th>\n",
       "      <td>0.002872</td>\n",
       "      <td>0.002312</td>\n",
       "      <td>0.006638</td>\n",
       "    </tr>\n",
       "    <tr>\n",
       "      <th>Spirits</th>\n",
       "      <td>0.026020</td>\n",
       "      <td>0.006638</td>\n",
       "      <td>0.050888</td>\n",
       "    </tr>\n",
       "  </tbody>\n",
       "</table>\n",
       "</div>"
      ],
      "text/plain": [
       "             Beer      Wine   Spirits\n",
       "Beer     0.016103  0.002872  0.026020\n",
       "Wine     0.002872  0.002312  0.006638\n",
       "Spirits  0.026020  0.006638  0.050888"
      ]
     },
     "execution_count": 42,
     "metadata": {},
     "output_type": "execute_result"
    }
   ],
   "source": [
    "frameNY.cov()"
   ]
  },
  {
   "cell_type": "code",
   "execution_count": 121,
   "metadata": {},
   "outputs": [],
   "source": [
    "pop = pd.read_csv('pop2009.csv', usecols=(0,1,2,3,4,5,6,7,8,9,10)).dropna(how=\"all\")\n",
    "pop[\"State\"] = pop[\"State\"].map(lambda x: str(x).lstrip('.'))\n",
    "pop.set_index(\"State\", inplace=True)\n",
    "# Get rid of commas in numbers\n",
    "for n in range(2000,2010):\n",
    "    pop[str(n)] = pop[str(n)].map(lambda x: int(str(x).replace(\",\", \"\")))\n",
    "# Force years to be a column and numeric\n",
    "pop = pop.stack().reset_index().rename(index=str, columns={\"level_1\": \"Year\", 0: \"Population\"})\n",
    "pop[\"Year\"] = pop[\"Year\"].map(lambda x : int(x))\n",
    "# Make a multi index\n",
    "multi = pd.MultiIndex.from_tuples(list(zip(pop['State'], pop['Year'])), names=[\"State\", \"Year\"])\n",
    "pop.index=multi\n",
    "# Remove duplicate columns\n",
    "pop = pop.drop(columns=[\"State\", \"Year\"])"
   ]
  },
  {
   "cell_type": "code",
   "execution_count": 122,
   "metadata": {},
   "outputs": [
    {
     "data": {
      "text/plain": [
       "Beer      -0.520878\n",
       "Wine       0.936026\n",
       "Spirits    0.957697\n",
       "dtype: float64"
      ]
     },
     "execution_count": 122,
     "metadata": {},
     "output_type": "execute_result"
    }
   ],
   "source": [
    "pop_seriesNY = pop.loc[\"New York\"].loc[2009:2000][\"Population\"]\n",
    "frameNY.loc[2009:2000].corrwith(pop_seriesNY)"
   ]
  },
  {
   "cell_type": "code",
   "execution_count": 130,
   "metadata": {},
   "outputs": [
    {
     "data": {
      "text/html": [
       "<div>\n",
       "<style scoped>\n",
       "    .dataframe tbody tr th:only-of-type {\n",
       "        vertical-align: middle;\n",
       "    }\n",
       "\n",
       "    .dataframe tbody tr th {\n",
       "        vertical-align: top;\n",
       "    }\n",
       "\n",
       "    .dataframe thead th {\n",
       "        text-align: right;\n",
       "    }\n",
       "</style>\n",
       "<table border=\"1\" class=\"dataframe\">\n",
       "  <thead>\n",
       "    <tr style=\"text-align: right;\">\n",
       "      <th></th>\n",
       "      <th>r</th>\n",
       "      <th>p-value</th>\n",
       "    </tr>\n",
       "    <tr>\n",
       "      <th>bev</th>\n",
       "      <th></th>\n",
       "      <th></th>\n",
       "    </tr>\n",
       "  </thead>\n",
       "  <tbody>\n",
       "    <tr>\n",
       "      <th>Beer</th>\n",
       "      <td>-0.520878</td>\n",
       "      <td>0.122646</td>\n",
       "    </tr>\n",
       "    <tr>\n",
       "      <th>Wine</th>\n",
       "      <td>0.936026</td>\n",
       "      <td>0.000068</td>\n",
       "    </tr>\n",
       "    <tr>\n",
       "      <th>Spirits</th>\n",
       "      <td>0.957697</td>\n",
       "      <td>0.000013</td>\n",
       "    </tr>\n",
       "  </tbody>\n",
       "</table>\n",
       "</div>"
      ],
      "text/plain": [
       "                r   p-value\n",
       "bev                        \n",
       "Beer    -0.520878  0.122646\n",
       "Wine     0.936026  0.000068\n",
       "Spirits  0.957697  0.000013"
      ]
     },
     "execution_count": 130,
     "metadata": {},
     "output_type": "execute_result"
    }
   ],
   "source": [
    "from scipy.stats import pearsonr\n",
    "pop_sorted = pop_seriesNY.sort_index()\n",
    "alco_10 = alco.loc['New York'].loc[2009:2000].sort_index()\n",
    "corrs = [(bev,) + pearsonr(alco_10[bev], pop_sorted)\n",
    "         for bev in alco_10.columns]\n",
    "pd.DataFrame(corrs, columns=(\"bev\", \"r\", \"p-value\")).set_index(\"bev\")"
   ]
  },
  {
   "cell_type": "code",
   "execution_count": 146,
   "metadata": {},
   "outputs": [
    {
     "data": {
      "text/html": [
       "<div>\n",
       "<style scoped>\n",
       "    .dataframe tbody tr th:only-of-type {\n",
       "        vertical-align: middle;\n",
       "    }\n",
       "\n",
       "    .dataframe tbody tr th {\n",
       "        vertical-align: top;\n",
       "    }\n",
       "\n",
       "    .dataframe thead th {\n",
       "        text-align: right;\n",
       "    }\n",
       "</style>\n",
       "<table border=\"1\" class=\"dataframe\">\n",
       "  <thead>\n",
       "    <tr style=\"text-align: right;\">\n",
       "      <th></th>\n",
       "      <th>Beer</th>\n",
       "      <th>Wine</th>\n",
       "      <th>Spirits</th>\n",
       "    </tr>\n",
       "  </thead>\n",
       "  <tbody>\n",
       "    <tr>\n",
       "      <th>Beer</th>\n",
       "      <td>1.000000</td>\n",
       "      <td>-0.031560</td>\n",
       "      <td>0.452279</td>\n",
       "    </tr>\n",
       "    <tr>\n",
       "      <th>Wine</th>\n",
       "      <td>-0.031560</td>\n",
       "      <td>1.000000</td>\n",
       "      <td>0.599791</td>\n",
       "    </tr>\n",
       "    <tr>\n",
       "      <th>Spirits</th>\n",
       "      <td>0.452279</td>\n",
       "      <td>0.599791</td>\n",
       "      <td>1.000000</td>\n",
       "    </tr>\n",
       "  </tbody>\n",
       "</table>\n",
       "</div>"
      ],
      "text/plain": [
       "             Beer      Wine   Spirits\n",
       "Beer     1.000000 -0.031560  0.452279\n",
       "Wine    -0.031560  1.000000  0.599791\n",
       "Spirits  0.452279  0.599791  1.000000"
      ]
     },
     "execution_count": 146,
     "metadata": {},
     "output_type": "execute_result"
    }
   ],
   "source": [
    "alco2009 = alco.reset_index().set_index(\"Year\").loc[2009].reset_index().set_index(\"State\").drop(columns=[\"Year\"])\n",
    "alco2009.corr()"
   ]
  },
  {
   "cell_type": "code",
   "execution_count": 148,
   "metadata": {},
   "outputs": [
    {
     "data": {
      "text/plain": [
       "(-0.031560488300856844, 0.825984813107873)"
      ]
     },
     "execution_count": 148,
     "metadata": {},
     "output_type": "execute_result"
    }
   ],
   "source": [
    "pearsonr(alco2009[\"Wine\"], alco2009[\"Beer\"])"
   ]
  },
  {
   "cell_type": "markdown",
   "metadata": {},
   "source": [
    "## Twenty First Century S&P 500\n",
    "Data pulled directly from yahoo finance archive."
   ]
  },
  {
   "cell_type": "code",
   "execution_count": 153,
   "metadata": {},
   "outputs": [
    {
     "data": {
      "text/html": [
       "<div>\n",
       "<style scoped>\n",
       "    .dataframe tbody tr th:only-of-type {\n",
       "        vertical-align: middle;\n",
       "    }\n",
       "\n",
       "    .dataframe tbody tr th {\n",
       "        vertical-align: top;\n",
       "    }\n",
       "\n",
       "    .dataframe thead th {\n",
       "        text-align: right;\n",
       "    }\n",
       "</style>\n",
       "<table border=\"1\" class=\"dataframe\">\n",
       "  <thead>\n",
       "    <tr style=\"text-align: right;\">\n",
       "      <th></th>\n",
       "      <th>Open</th>\n",
       "      <th>High</th>\n",
       "      <th>Low</th>\n",
       "      <th>Close</th>\n",
       "      <th>Adj Close</th>\n",
       "      <th>Volume</th>\n",
       "    </tr>\n",
       "  </thead>\n",
       "  <tbody>\n",
       "    <tr>\n",
       "      <th>count</th>\n",
       "      <td>4465.000000</td>\n",
       "      <td>4465.000000</td>\n",
       "      <td>4465.000000</td>\n",
       "      <td>4465.000000</td>\n",
       "      <td>4465.000000</td>\n",
       "      <td>4.465000e+03</td>\n",
       "    </tr>\n",
       "    <tr>\n",
       "      <th>mean</th>\n",
       "      <td>1492.019816</td>\n",
       "      <td>1500.373571</td>\n",
       "      <td>1483.048869</td>\n",
       "      <td>1492.259445</td>\n",
       "      <td>1492.259445</td>\n",
       "      <td>3.169026e+09</td>\n",
       "    </tr>\n",
       "    <tr>\n",
       "      <th>std</th>\n",
       "      <td>508.352807</td>\n",
       "      <td>508.558871</td>\n",
       "      <td>508.196271</td>\n",
       "      <td>508.496805</td>\n",
       "      <td>508.496805</td>\n",
       "      <td>1.466269e+09</td>\n",
       "    </tr>\n",
       "    <tr>\n",
       "      <th>min</th>\n",
       "      <td>679.280029</td>\n",
       "      <td>695.270020</td>\n",
       "      <td>666.789978</td>\n",
       "      <td>676.530029</td>\n",
       "      <td>676.530029</td>\n",
       "      <td>3.560700e+08</td>\n",
       "    </tr>\n",
       "    <tr>\n",
       "      <th>25%</th>\n",
       "      <td>1131.920044</td>\n",
       "      <td>1140.400024</td>\n",
       "      <td>1124.719971</td>\n",
       "      <td>1132.010010</td>\n",
       "      <td>1132.010010</td>\n",
       "      <td>1.834920e+09</td>\n",
       "    </tr>\n",
       "    <tr>\n",
       "      <th>50%</th>\n",
       "      <td>1312.829956</td>\n",
       "      <td>1319.739990</td>\n",
       "      <td>1304.719971</td>\n",
       "      <td>1312.939941</td>\n",
       "      <td>1312.939941</td>\n",
       "      <td>3.236620e+09</td>\n",
       "    </tr>\n",
       "    <tr>\n",
       "      <th>75%</th>\n",
       "      <td>1873.250000</td>\n",
       "      <td>1879.750000</td>\n",
       "      <td>1863.260010</td>\n",
       "      <td>1872.250000</td>\n",
       "      <td>1872.250000</td>\n",
       "      <td>3.975280e+09</td>\n",
       "    </tr>\n",
       "    <tr>\n",
       "      <th>max</th>\n",
       "      <td>2936.760010</td>\n",
       "      <td>2940.909912</td>\n",
       "      <td>2927.110107</td>\n",
       "      <td>2930.750000</td>\n",
       "      <td>2930.750000</td>\n",
       "      <td>1.145623e+10</td>\n",
       "    </tr>\n",
       "  </tbody>\n",
       "</table>\n",
       "</div>"
      ],
      "text/plain": [
       "              Open         High          Low        Close    Adj Close  \\\n",
       "count  4465.000000  4465.000000  4465.000000  4465.000000  4465.000000   \n",
       "mean   1492.019816  1500.373571  1483.048869  1492.259445  1492.259445   \n",
       "std     508.352807   508.558871   508.196271   508.496805   508.496805   \n",
       "min     679.280029   695.270020   666.789978   676.530029   676.530029   \n",
       "25%    1131.920044  1140.400024  1124.719971  1132.010010  1132.010010   \n",
       "50%    1312.829956  1319.739990  1304.719971  1312.939941  1312.939941   \n",
       "75%    1873.250000  1879.750000  1863.260010  1872.250000  1872.250000   \n",
       "max    2936.760010  2940.909912  2927.110107  2930.750000  2930.750000   \n",
       "\n",
       "             Volume  \n",
       "count  4.465000e+03  \n",
       "mean   3.169026e+09  \n",
       "std    1.466269e+09  \n",
       "min    3.560700e+08  \n",
       "25%    1.834920e+09  \n",
       "50%    3.236620e+09  \n",
       "75%    3.975280e+09  \n",
       "max    1.145623e+10  "
      ]
     },
     "execution_count": 153,
     "metadata": {},
     "output_type": "execute_result"
    }
   ],
   "source": [
    "sp500 = pd.read_csv(\"sp500.csv\").set_index(\"Date\")\n",
    "sp500.describe()"
   ]
  },
  {
   "cell_type": "code",
   "execution_count": 160,
   "metadata": {},
   "outputs": [
    {
     "data": {
      "text/plain": [
       "0.9785274256532506"
      ]
     },
     "execution_count": 160,
     "metadata": {},
     "output_type": "execute_result"
    }
   ],
   "source": [
    "sp500[\"Close\"].skew()"
   ]
  },
  {
   "cell_type": "code",
   "execution_count": 161,
   "metadata": {},
   "outputs": [
    {
     "data": {
      "text/plain": [
       "0.7023794595895168"
      ]
     },
     "execution_count": 161,
     "metadata": {},
     "output_type": "execute_result"
    }
   ],
   "source": [
    "sp500[\"Volume\"].skew()"
   ]
  },
  {
   "cell_type": "code",
   "execution_count": 162,
   "metadata": {},
   "outputs": [
    {
     "data": {
      "text/plain": [
       "0.14169018622670598"
      ]
     },
     "execution_count": 162,
     "metadata": {},
     "output_type": "execute_result"
    }
   ],
   "source": [
    "sp500[\"Close\"].corr(sp500[\"Volume\"])"
   ]
  },
  {
   "cell_type": "markdown",
   "metadata": {},
   "source": [
    "The correlation is close to zero, thus it is unlikely that the close value and the volume are not reliably related."
   ]
  }
 ],
 "metadata": {
  "kernelspec": {
   "display_name": "Python 3",
   "language": "python",
   "name": "python3"
  },
  "language_info": {
   "codemirror_mode": {
    "name": "ipython",
    "version": 3
   },
   "file_extension": ".py",
   "mimetype": "text/x-python",
   "name": "python",
   "nbconvert_exporter": "python",
   "pygments_lexer": "ipython3",
   "version": "3.7.0"
  }
 },
 "nbformat": 4,
 "nbformat_minor": 2
}
