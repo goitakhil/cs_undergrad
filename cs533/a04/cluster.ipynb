{
 "cells": [
  {
   "cell_type": "markdown",
   "metadata": {},
   "source": [
    "## Assignment 5: Clustering\n",
    "Tyler Bevan\n",
    "\n",
    "In this assignment, you will apply clustering to several tasks. "
   ]
  },
  {
   "cell_type": "code",
   "execution_count": 1,
   "metadata": {},
   "outputs": [],
   "source": [
    "from scipy.cluster.hierarchy import linkage, dendrogram\n",
    "from sklearn import datasets\n",
    "from sklearn.cluster import KMeans\n",
    "import matplotlib.pyplot as plt\n",
    "import pandas as pd"
   ]
  },
  {
   "cell_type": "markdown",
   "metadata": {},
   "source": [
    "* download the `GoogleNews-vectors-negative300.bin` file from https://github.com/mmihaltz/word2vec-GoogleNews-vectors (or just copy if from the earlier assignment) and unzip the file\n",
    "* load the file by running the cell below (you may need to pip install gensim and you may need to change the path to the file)\n",
    "\n",
    "#### Run the following cell, the continue to Parts 1, 2, & 3"
   ]
  },
  {
   "cell_type": "code",
   "execution_count": 2,
   "metadata": {},
   "outputs": [
    {
     "name": "stderr",
     "output_type": "stream",
     "text": [
      "C:\\Users\\tbevan\\Anaconda3\\lib\\site-packages\\gensim\\utils.py:1197: UserWarning: detected Windows; aliasing chunkize to chunkize_serial\n",
      "  warnings.warn(\"detected Windows; aliasing chunkize to chunkize_serial\")\n"
     ]
    }
   ],
   "source": [
    "from gensim.models import KeyedVectors as w\n",
    "w2v = w.load_word2vec_format('GoogleNews-vectors-negative300.bin',binary=True)"
   ]
  },
  {
   "cell_type": "code",
   "execution_count": 3,
   "metadata": {},
   "outputs": [],
   "source": [
    "vocab = ['red', 'blue', 'green', 'dog', 'cat', 'cow', 'planet', 'sun', 'king', 'queen', 'prince', 'princess']"
   ]
  },
  {
   "cell_type": "markdown",
   "metadata": {},
   "source": [
    "### Part 1: K-means\n",
    "\n",
    "* Cluster the w2v vectors for the words in `vocab`. Use `n_clusters=4`. \n",
    "* Answer the following questions in a markdown cell:\n",
    " * Which words cluster together? \n",
    " * Why do you think those words cluster together?\n",
    " * Are there any clusters / word groups that surprise you?"
   ]
  },
  {
   "cell_type": "code",
   "execution_count": 4,
   "metadata": {},
   "outputs": [
    {
     "name": "stdout",
     "output_type": "stream",
     "text": [
      "red in group 2\n",
      "blue in group 2\n",
      "green in group 2\n",
      "dog in group 0\n",
      "cat in group 0\n",
      "cow in group 0\n",
      "planet in group 3\n",
      "sun in group 3\n",
      "king in group 1\n",
      "queen in group 1\n",
      "prince in group 1\n",
      "princess in group 1\n"
     ]
    }
   ],
   "source": [
    "vectors = [w2v[x] for x in vocab]\n",
    "\n",
    "km = KMeans(n_clusters=4)\n",
    "km.fit(vectors)\n",
    "result = zip(vocab, km.labels_)\n",
    "for row in result:\n",
    "    print('{} in group {}'.format(row[0], row[1]))"
   ]
  },
  {
   "cell_type": "markdown",
   "metadata": {},
   "source": [
    "Group 0:\n",
    " - king\n",
    " - queen\n",
    " - prince\n",
    " - princess\n",
    "\n",
    "Group 1:\n",
    " - planet\n",
    " - sun\n",
    "\n",
    "Group 2:\n",
    " - red\n",
    " - blue\n",
    " - green\n",
    "\n",
    "Group 3:\n",
    " - dog\n",
    " - cat\n",
    " - cow\n",
    " \n",
    "These words make sense to cluster together, as they have related meanings/contexts. (royalty, astronomy, colors, animals)\n",
    "No surprises in this case, that is how I would have grouped them."
   ]
  },
  {
   "cell_type": "markdown",
   "metadata": {},
   "source": [
    "### Part 2: Hierarcical "
   ]
  },
  {
   "cell_type": "markdown",
   "metadata": {},
   "source": [
    "\n",
    "* Obtain the w2v vectors for the words in the vocab list above.\n",
    "* Using the scipy `linkage` class, learn a heirarchical model. \n",
    "* Generate a dendrogram (see examples linked from the clustering lecture Trello card) using the learned model.\n",
    "* Answer the following questions in a markdown cell:\n",
    " * What are some clusters that you see? \n",
    " * Do some word types emerge from these clusters?\n",
    " * What are some clusters / word groupings that surprise you? Why do you think w2v grouped them that way?\n",
    "* Add the word 'star' to the vocabulary and re-run the clustering. What changed? Why do you think those clusters were generated?"
   ]
  },
  {
   "cell_type": "code",
   "execution_count": 5,
   "metadata": {},
   "outputs": [
    {
     "data": {
      "image/png": "[encoded data removed]",
      "text/plain": [
       "<Figure size 432x288 with 1 Axes>"
      ]
     },
     "metadata": {
      "needs_background": "light"
     },
     "output_type": "display_data"
    }
   ],
   "source": [
    "mergings = linkage(vectors, method='complete')\n",
    "dendrogram(mergings, labels=vocab, leaf_rotation=90)\n",
    "plt.show()"
   ]
  },
  {
   "cell_type": "markdown",
   "metadata": {},
   "source": [
    "Queen and princess are grouped, as well as king and prince. That makes sense, as those are gender groups in addition to being royalty. As for why the colors are grouped at the same depth as sun, and below planet is unknown. Perhaps because these are all non-living, also colors can be used to describe the planet and the sun."
   ]
  },
  {
   "cell_type": "code",
   "execution_count": 6,
   "metadata": {},
   "outputs": [
    {
     "data": {
      "image/png": "[encoded data removed]",
      "text/plain": [
       "<Figure size 432x288 with 1 Axes>"
      ]
     },
     "metadata": {
      "needs_background": "light"
     },
     "output_type": "display_data"
    }
   ],
   "source": [
    "vocab = ['red', 'blue', 'green', 'dog', 'cat', 'cow', 'planet', 'sun', 'king', 'queen', 'prince', 'princess', 'star']\n",
    "vectors = [w2v[x] for x in vocab]\n",
    "mergings = linkage(vectors, method='complete')\n",
    "dendrogram(mergings, labels=vocab, leaf_rotation=90)\n",
    "plt.show()"
   ]
  },
  {
   "cell_type": "markdown",
   "metadata": {},
   "source": [
    "Star was grouped with the royalty. That could make sense, as those words are all used to describe people and Google's data set contains a lot of natural language sources. Star is probably used more as an adjective than as a noun in their source data."
   ]
  },
  {
   "cell_type": "markdown",
   "metadata": {},
   "source": [
    "### Part 3: Spectral\n",
    "\n",
    "* Perform spectral clustering on the following image:\n",
    "\n",
    "![title](nuclei.png)\n",
    "\n",
    "* You may need to pre-process the image\n",
    "* You will need to decide the number of clusters that seem appropriate\n",
    "* Answer the following questions in a markdown cell:\n",
    " * How many clusters did you use? Why?"
   ]
  },
  {
   "cell_type": "code",
   "execution_count": 18,
   "metadata": {},
   "outputs": [
    {
     "name": "stderr",
     "output_type": "stream",
     "text": [
      "C:\\Users\\tbevan\\Anaconda3\\lib\\site-packages\\sklearn\\manifold\\spectral_embedding_.py:237: UserWarning: Graph is not fully connected, spectral embedding may not work as expected.\n",
      "  warnings.warn(\"Graph is not fully connected, spectral embedding\"\n"
     ]
    },
    {
     "data": {
      "text/plain": [
       "<matplotlib.image.AxesImage at 0x24580437f60>"
      ]
     },
     "execution_count": 18,
     "metadata": {},
     "output_type": "execute_result"
    },
    {
     "data": {
      "image/png": "[encoded data removed]",
      "text/plain": [
       "<Figure size 360.718x288 with 1 Axes>"
      ]
     },
     "metadata": {
      "needs_background": "light"
     },
     "output_type": "display_data"
    }
   ],
   "source": [
    "import cv2\n",
    "import numpy as np\n",
    "from sklearn.feature_extraction import image\n",
    "from sklearn.cluster import SpectralClustering\n",
    "import matplotlib.pyplot as plt\n",
    "\n",
    "image_color = cv2.imread(\"nuclei.png\")\n",
    "image_gray = np.array(list(map(lambda x: (255-x)/255, cv2.cvtColor(image_color, cv2.COLOR_BGR2GRAY).flatten()))).reshape(image_color.shape[:2])\n",
    "image = []\n",
    "for x in range(image_color.shape[0]):\n",
    "    for y in range(image_color.shape[1]):\n",
    "        if image_gray[x][y] > .4:\n",
    "            image.append([x, y, image_gray[x][y]])\n",
    "image = np.array(image)\n",
    "sc = SpectralClustering(n_clusters=15, affinity='nearest_neighbors')\n",
    "labels = sc.fit(image)\n",
    "result = np.zeros(image_color.shape[:2])\n",
    "for i in range(len(image)):\n",
    "    result[int(image[i][0])][int(image[i][1])] = labels.labels_[i]+1\n",
    "plt.matshow(result)"
   ]
  },
  {
   "cell_type": "markdown",
   "metadata": {},
   "source": [
    "I chose to use 15 groups, which is about how many distinct cells I could see. It worked ok, but the couple of cells that had color varience in them caused the nearest-neighbors graph to split it into multiple groups. I also chose to drop all the background pixels so that only the cells will be considered in the grouping. There is probably better preprocessing I could do to fix the anomolies, but for now I just converted the RGB to a floating point greyscale and that worked ok."
   ]
  },
  {
   "cell_type": "markdown",
   "metadata": {},
   "source": [
    "### Part 4: Open Ended\n",
    "\n",
    "* For this part, you will need to find some data, load it into the notebook, and perform clustering. \n",
    "* You cannot just use w2v with a different set of vocabulary\n",
    "* You cannot just use spectral clustering with a different image\n",
    "* You cannot use a scikit, nltk, or other pre-loaded data set. You need to find and load your own. \n",
    "* I know about all of the online resources and examples for clustering. Don't just copy something you found on some website.\n",
    "* You can use one of the algorithms in Parts 1, 2, or 3 if they seem appropriate, but you can also try [other ones](http://scikit-learn.org/stable/modules/clustering.html).\n",
    "* Answer the following questions in a markdown cell:\n",
    " * What data did you choose why?\n",
    " * What question are you trying to answer with this data?\n",
    " * How does your clustering approach help answer that question?\n",
    " * What are some things that surprised you about the results?"
   ]
  },
  {
   "cell_type": "code",
   "execution_count": 19,
   "metadata": {},
   "outputs": [
    {
     "name": "stdout",
     "output_type": "stream",
     "text": [
      "friend : 0\n",
      "ally : 2\n",
      "enemy : 2\n",
      "nemesis : 0\n",
      "arm : 3\n",
      "leg : 3\n",
      "foot : 3\n",
      "hamburger : 1\n",
      "sandwich : 1\n",
      "salad : 1\n",
      "cheese : 1\n"
     ]
    }
   ],
   "source": [
    "from nltk.corpus import wordnet as wn\n",
    "from sklearn.cluster import SpectralClustering\n",
    "\n",
    "\n",
    "my_words = ['friend', 'ally', 'enemy', 'nemesis', 'arm', 'leg', 'foot', 'hamburger', 'sandwich', 'salad', 'cheese']\n",
    "edges = []\n",
    "for word in my_words:\n",
    "    vect = []\n",
    "    for other_word in my_words:\n",
    "        score = wn.wup_similarity(wn.synset(word + '.n.1'), wn.synset(other_word + '.n.1'))\n",
    "        if score is None or word == other_word:\n",
    "            vect.append(0)\n",
    "        else:\n",
    "            vect.append(score)\n",
    "    edges.append(vect)\n",
    "\n",
    "sc = SpectralClustering(n_clusters=4, affinity='precomputed')\n",
    "labels = sc.fit(edges)\n",
    "for row in zip(my_words, labels.labels_):\n",
    "    print('{} : {}'.format(row[0], row[1]))"
   ]
  },
  {
   "cell_type": "markdown",
   "metadata": {},
   "source": [
    "I used different random words that could be grouped based on meaning. I wanted to see if I could use the wordnet similarity scores to create an affinity graph that the spectralclustering module could use to create clusters. I thought I could create a directed affinity graph by creating a vector of all the scores relative to all other words. This worked fairly well, but had some odd effects. I expected friend and ally to be grouped and enemy and nemesis to be grouped, but the wordnet considers friend and nemesis to be more related and ally and enemy to be more related, even if they have opposing meanings."
   ]
  }
 ],
 "metadata": {
  "kernelspec": {
   "display_name": "Python 3",
   "language": "python",
   "name": "python3"
  }
 },
 "nbformat": 4,
 "nbformat_minor": 2
}
