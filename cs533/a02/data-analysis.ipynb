{
 "cells": [
  {
   "cell_type": "markdown",
   "metadata": {},
   "source": [
    "# A2: Data Analysis\n",
    "Tyler Bevan\n",
    "\n",
    "Questions 1 through 4 are on a logarithmic Y scale"
   ]
  },
  {
   "cell_type": "code",
   "execution_count": 19,
   "metadata": {},
   "outputs": [],
   "source": [
    "import pandas as pd\n",
    "import matplotlib.pyplot as plt\n",
    "%matplotlib inline \n",
    "import seaborn as sns\n",
    "sns.set()\n",
    "artists = pd.read_csv(\"artists.dat\", delimiter=\"\\t\").set_index(\"id\")\n",
    "tags = pd.read_csv(\"tags.dat\", delimiter=\"\\t\").set_index(\"tagID\")\n",
    "user_artists = pd.read_csv(\"user_artists.dat\", delimiter=\"\\t\").set_index([\"userID\", \"artistID\"])\n",
    "user_friends = pd.read_csv(\"user_friends.dat\", delimiter=\"\\t\").set_index(\"userID\")\n",
    "user_taggedartists = pd.read_csv(\"user_taggedartists.dat\", delimiter=\"\\t\").set_index([\"userID\", \"artistID\"])"
   ]
  },
  {
   "cell_type": "markdown",
   "metadata": {},
   "source": [
    "Question 1: Plot the distribution of play counts per artist"
   ]
  },
  {
   "cell_type": "code",
   "execution_count": 20,
   "metadata": {},
   "outputs": [
    {
     "data": {
      "image/png": "[encoded data removed]",
      "text/plain": [
       "<Figure size 432x288 with 1 Axes>"
      ]
     },
     "metadata": {},
     "output_type": "display_data"
    }
   ],
   "source": [
    "fig, ax = plt.subplots()\n",
    "user_artists.reset_index().groupby([\"artistID\"])[\"weight\"].agg(\"sum\").hist(ax=ax, bins=100, bottom=0.1)\n",
    "ax.set_yscale('log')"
   ]
  },
  {
   "cell_type": "markdown",
   "metadata": {},
   "source": [
    "Question 2: Plot the distribution of unique users playing each artist"
   ]
  },
  {
   "cell_type": "code",
   "execution_count": 21,
   "metadata": {},
   "outputs": [
    {
     "data": {
      "image/png": "[encoded data removed]",
      "text/plain": [
       "<Figure size 432x288 with 1 Axes>"
      ]
     },
     "metadata": {},
     "output_type": "display_data"
    }
   ],
   "source": [
    "fig, ax = plt.subplots()\n",
    "user_artists.reset_index().groupby([\"artistID\"])[\"userID\"].agg(\"count\").hist(ax=ax, bins=100, bottom=0.1)\n",
    "ax.set_yscale('log')"
   ]
  },
  {
   "cell_type": "markdown",
   "metadata": {},
   "source": [
    "Question 3: Plot the distribution of play counts per user"
   ]
  },
  {
   "cell_type": "code",
   "execution_count": 22,
   "metadata": {},
   "outputs": [
    {
     "data": {
      "image/png": "[encoded data removed]",
      "text/plain": [
       "<Figure size 432x288 with 1 Axes>"
      ]
     },
     "metadata": {},
     "output_type": "display_data"
    }
   ],
   "source": [
    "fig, ax = plt.subplots()\n",
    "user_artists.reset_index().groupby([\"userID\"])[\"weight\"].agg(\"sum\").hist(ax=ax, bins=100, bottom=0.1)\n",
    "ax.set_yscale('log')"
   ]
  },
  {
   "cell_type": "markdown",
   "metadata": {},
   "source": [
    "Question 4: Plot the distribution of unique artists per user"
   ]
  },
  {
   "cell_type": "code",
   "execution_count": 23,
   "metadata": {},
   "outputs": [
    {
     "data": {
      "image/png": "[encoded data removed]",
      "text/plain": [
       "<Figure size 432x288 with 1 Axes>"
      ]
     },
     "metadata": {},
     "output_type": "display_data"
    }
   ],
   "source": [
    "fig, ax = plt.subplots()\n",
    "user_artists.reset_index().groupby([\"userID\"])[\"artistID\"].agg(\"count\").hist(ax=ax, bins=50, bottom=0.1)\n",
    "ax.set_yscale('log')"
   ]
  },
  {
   "cell_type": "markdown",
   "metadata": {},
   "source": [
    "Question 5: What is the mean artists-per-user? Users-per-artist? Plays per user/artist pair?"
   ]
  },
  {
   "cell_type": "code",
   "execution_count": 24,
   "metadata": {},
   "outputs": [
    {
     "name": "stdout",
     "output_type": "stream",
     "text": [
      "Mean artists-per-user: 49.06659619450317\n",
      "Mean users-per-artist: 5.265086206896552\n",
      "Mean plays per user per artist: 745.2439300256372\n"
     ]
    }
   ],
   "source": [
    "print(\"Mean artists-per-user: {}\".format(user_artists.reset_index().groupby([\"userID\"])[\"artistID\"].agg(\"count\").mean()))\n",
    "print(\"Mean users-per-artist: {}\".format(user_artists.reset_index().groupby([\"artistID\"])[\"userID\"].agg(\"count\").mean()))\n",
    "print(\"Mean plays per user per artist: {}\".format(user_artists[\"weight\"].mean()))"
   ]
  },
  {
   "cell_type": "markdown",
   "metadata": {},
   "source": [
    "Question 6: What are the 10 artists with the most plays?"
   ]
  },
  {
   "cell_type": "code",
   "execution_count": 25,
   "metadata": {},
   "outputs": [
    {
     "data": {
      "text/html": [
       "<div>\n",
       "<style scoped>\n",
       "    .dataframe tbody tr th:only-of-type {\n",
       "        vertical-align: middle;\n",
       "    }\n",
       "\n",
       "    .dataframe tbody tr th {\n",
       "        vertical-align: top;\n",
       "    }\n",
       "\n",
       "    .dataframe thead th {\n",
       "        text-align: right;\n",
       "    }\n",
       "</style>\n",
       "<table border=\"1\" class=\"dataframe\">\n",
       "  <thead>\n",
       "    <tr style=\"text-align: right;\">\n",
       "      <th></th>\n",
       "      <th>name</th>\n",
       "      <th>url</th>\n",
       "      <th>pictureURL</th>\n",
       "      <th>weight</th>\n",
       "    </tr>\n",
       "    <tr>\n",
       "      <th>id</th>\n",
       "      <th></th>\n",
       "      <th></th>\n",
       "      <th></th>\n",
       "      <th></th>\n",
       "    </tr>\n",
       "  </thead>\n",
       "  <tbody>\n",
       "    <tr>\n",
       "      <th>289</th>\n",
       "      <td>Britney Spears</td>\n",
       "      <td>http://www.last.fm/music/Britney+Spears</td>\n",
       "      <td>http://userserve-ak.last.fm/serve/252/60126439...</td>\n",
       "      <td>2393140</td>\n",
       "    </tr>\n",
       "    <tr>\n",
       "      <th>72</th>\n",
       "      <td>Depeche Mode</td>\n",
       "      <td>http://www.last.fm/music/Depeche+Mode</td>\n",
       "      <td>http://userserve-ak.last.fm/serve/252/75022.jpg</td>\n",
       "      <td>1301308</td>\n",
       "    </tr>\n",
       "    <tr>\n",
       "      <th>89</th>\n",
       "      <td>Lady Gaga</td>\n",
       "      <td>http://www.last.fm/music/Lady+Gaga</td>\n",
       "      <td>http://userserve-ak.last.fm/serve/252/47390093...</td>\n",
       "      <td>1291387</td>\n",
       "    </tr>\n",
       "    <tr>\n",
       "      <th>292</th>\n",
       "      <td>Christina Aguilera</td>\n",
       "      <td>http://www.last.fm/music/Christina+Aguilera</td>\n",
       "      <td>http://userserve-ak.last.fm/serve/252/47363849...</td>\n",
       "      <td>1058405</td>\n",
       "    </tr>\n",
       "    <tr>\n",
       "      <th>498</th>\n",
       "      <td>Paramore</td>\n",
       "      <td>http://www.last.fm/music/Paramore</td>\n",
       "      <td>http://userserve-ak.last.fm/serve/252/35837991...</td>\n",
       "      <td>963449</td>\n",
       "    </tr>\n",
       "    <tr>\n",
       "      <th>67</th>\n",
       "      <td>Madonna</td>\n",
       "      <td>http://www.last.fm/music/Madonna</td>\n",
       "      <td>http://userserve-ak.last.fm/serve/252/340387.jpg</td>\n",
       "      <td>921198</td>\n",
       "    </tr>\n",
       "    <tr>\n",
       "      <th>288</th>\n",
       "      <td>Rihanna</td>\n",
       "      <td>http://www.last.fm/music/Rihanna</td>\n",
       "      <td>http://userserve-ak.last.fm/serve/252/53023109...</td>\n",
       "      <td>905423</td>\n",
       "    </tr>\n",
       "    <tr>\n",
       "      <th>701</th>\n",
       "      <td>Shakira</td>\n",
       "      <td>http://www.last.fm/music/Shakira</td>\n",
       "      <td>http://userserve-ak.last.fm/serve/252/52116105...</td>\n",
       "      <td>688529</td>\n",
       "    </tr>\n",
       "    <tr>\n",
       "      <th>227</th>\n",
       "      <td>The Beatles</td>\n",
       "      <td>http://www.last.fm/music/The+Beatles</td>\n",
       "      <td>http://userserve-ak.last.fm/serve/252/2588646.jpg</td>\n",
       "      <td>662116</td>\n",
       "    </tr>\n",
       "    <tr>\n",
       "      <th>300</th>\n",
       "      <td>Katy Perry</td>\n",
       "      <td>http://www.last.fm/music/Katy+Perry</td>\n",
       "      <td>http://userserve-ak.last.fm/serve/252/42128121...</td>\n",
       "      <td>532545</td>\n",
       "    </tr>\n",
       "  </tbody>\n",
       "</table>\n",
       "</div>"
      ],
      "text/plain": [
       "                   name                                          url  \\\n",
       "id                                                                     \n",
       "289      Britney Spears      http://www.last.fm/music/Britney+Spears   \n",
       "72         Depeche Mode        http://www.last.fm/music/Depeche+Mode   \n",
       "89            Lady Gaga           http://www.last.fm/music/Lady+Gaga   \n",
       "292  Christina Aguilera  http://www.last.fm/music/Christina+Aguilera   \n",
       "498            Paramore            http://www.last.fm/music/Paramore   \n",
       "67              Madonna             http://www.last.fm/music/Madonna   \n",
       "288             Rihanna             http://www.last.fm/music/Rihanna   \n",
       "701             Shakira             http://www.last.fm/music/Shakira   \n",
       "227         The Beatles         http://www.last.fm/music/The+Beatles   \n",
       "300          Katy Perry          http://www.last.fm/music/Katy+Perry   \n",
       "\n",
       "                                            pictureURL   weight  \n",
       "id                                                               \n",
       "289  http://userserve-ak.last.fm/serve/252/60126439...  2393140  \n",
       "72     http://userserve-ak.last.fm/serve/252/75022.jpg  1301308  \n",
       "89   http://userserve-ak.last.fm/serve/252/47390093...  1291387  \n",
       "292  http://userserve-ak.last.fm/serve/252/47363849...  1058405  \n",
       "498  http://userserve-ak.last.fm/serve/252/35837991...   963449  \n",
       "67    http://userserve-ak.last.fm/serve/252/340387.jpg   921198  \n",
       "288  http://userserve-ak.last.fm/serve/252/53023109...   905423  \n",
       "701  http://userserve-ak.last.fm/serve/252/52116105...   688529  \n",
       "227  http://userserve-ak.last.fm/serve/252/2588646.jpg   662116  \n",
       "300  http://userserve-ak.last.fm/serve/252/42128121...   532545  "
      ]
     },
     "execution_count": 25,
     "metadata": {},
     "output_type": "execute_result"
    }
   ],
   "source": [
    "artists.merge(pd.DataFrame(user_artists.reset_index().groupby([\"artistID\"])[\"weight\"].agg(\"sum\")), left_index=True, right_index=True).sort_values(by=[\"weight\"], ascending=False).head(10)"
   ]
  },
  {
   "cell_type": "markdown",
   "metadata": {},
   "source": [
    "Question 7: What are the 10 artists with the most unique playing users?"
   ]
  },
  {
   "cell_type": "code",
   "execution_count": 26,
   "metadata": {},
   "outputs": [
    {
     "data": {
      "text/html": [
       "<div>\n",
       "<style scoped>\n",
       "    .dataframe tbody tr th:only-of-type {\n",
       "        vertical-align: middle;\n",
       "    }\n",
       "\n",
       "    .dataframe tbody tr th {\n",
       "        vertical-align: top;\n",
       "    }\n",
       "\n",
       "    .dataframe thead th {\n",
       "        text-align: right;\n",
       "    }\n",
       "</style>\n",
       "<table border=\"1\" class=\"dataframe\">\n",
       "  <thead>\n",
       "    <tr style=\"text-align: right;\">\n",
       "      <th></th>\n",
       "      <th>name</th>\n",
       "      <th>url</th>\n",
       "      <th>pictureURL</th>\n",
       "      <th>userID</th>\n",
       "    </tr>\n",
       "    <tr>\n",
       "      <th>id</th>\n",
       "      <th></th>\n",
       "      <th></th>\n",
       "      <th></th>\n",
       "      <th></th>\n",
       "    </tr>\n",
       "  </thead>\n",
       "  <tbody>\n",
       "    <tr>\n",
       "      <th>89</th>\n",
       "      <td>Lady Gaga</td>\n",
       "      <td>http://www.last.fm/music/Lady+Gaga</td>\n",
       "      <td>http://userserve-ak.last.fm/serve/252/47390093...</td>\n",
       "      <td>611</td>\n",
       "    </tr>\n",
       "    <tr>\n",
       "      <th>289</th>\n",
       "      <td>Britney Spears</td>\n",
       "      <td>http://www.last.fm/music/Britney+Spears</td>\n",
       "      <td>http://userserve-ak.last.fm/serve/252/60126439...</td>\n",
       "      <td>522</td>\n",
       "    </tr>\n",
       "    <tr>\n",
       "      <th>288</th>\n",
       "      <td>Rihanna</td>\n",
       "      <td>http://www.last.fm/music/Rihanna</td>\n",
       "      <td>http://userserve-ak.last.fm/serve/252/53023109...</td>\n",
       "      <td>484</td>\n",
       "    </tr>\n",
       "    <tr>\n",
       "      <th>227</th>\n",
       "      <td>The Beatles</td>\n",
       "      <td>http://www.last.fm/music/The+Beatles</td>\n",
       "      <td>http://userserve-ak.last.fm/serve/252/2588646.jpg</td>\n",
       "      <td>480</td>\n",
       "    </tr>\n",
       "    <tr>\n",
       "      <th>300</th>\n",
       "      <td>Katy Perry</td>\n",
       "      <td>http://www.last.fm/music/Katy+Perry</td>\n",
       "      <td>http://userserve-ak.last.fm/serve/252/42128121...</td>\n",
       "      <td>473</td>\n",
       "    </tr>\n",
       "    <tr>\n",
       "      <th>67</th>\n",
       "      <td>Madonna</td>\n",
       "      <td>http://www.last.fm/music/Madonna</td>\n",
       "      <td>http://userserve-ak.last.fm/serve/252/340387.jpg</td>\n",
       "      <td>429</td>\n",
       "    </tr>\n",
       "    <tr>\n",
       "      <th>333</th>\n",
       "      <td>Avril Lavigne</td>\n",
       "      <td>http://www.last.fm/music/Avril+Lavigne</td>\n",
       "      <td>http://userserve-ak.last.fm/serve/252/59708309...</td>\n",
       "      <td>417</td>\n",
       "    </tr>\n",
       "    <tr>\n",
       "      <th>292</th>\n",
       "      <td>Christina Aguilera</td>\n",
       "      <td>http://www.last.fm/music/Christina+Aguilera</td>\n",
       "      <td>http://userserve-ak.last.fm/serve/252/47363849...</td>\n",
       "      <td>407</td>\n",
       "    </tr>\n",
       "    <tr>\n",
       "      <th>190</th>\n",
       "      <td>Muse</td>\n",
       "      <td>http://www.last.fm/music/Muse</td>\n",
       "      <td>http://userserve-ak.last.fm/serve/252/416514.jpg</td>\n",
       "      <td>400</td>\n",
       "    </tr>\n",
       "    <tr>\n",
       "      <th>498</th>\n",
       "      <td>Paramore</td>\n",
       "      <td>http://www.last.fm/music/Paramore</td>\n",
       "      <td>http://userserve-ak.last.fm/serve/252/35837991...</td>\n",
       "      <td>399</td>\n",
       "    </tr>\n",
       "  </tbody>\n",
       "</table>\n",
       "</div>"
      ],
      "text/plain": [
       "                   name                                          url  \\\n",
       "id                                                                     \n",
       "89            Lady Gaga           http://www.last.fm/music/Lady+Gaga   \n",
       "289      Britney Spears      http://www.last.fm/music/Britney+Spears   \n",
       "288             Rihanna             http://www.last.fm/music/Rihanna   \n",
       "227         The Beatles         http://www.last.fm/music/The+Beatles   \n",
       "300          Katy Perry          http://www.last.fm/music/Katy+Perry   \n",
       "67              Madonna             http://www.last.fm/music/Madonna   \n",
       "333       Avril Lavigne       http://www.last.fm/music/Avril+Lavigne   \n",
       "292  Christina Aguilera  http://www.last.fm/music/Christina+Aguilera   \n",
       "190                Muse                http://www.last.fm/music/Muse   \n",
       "498            Paramore            http://www.last.fm/music/Paramore   \n",
       "\n",
       "                                            pictureURL  userID  \n",
       "id                                                              \n",
       "89   http://userserve-ak.last.fm/serve/252/47390093...     611  \n",
       "289  http://userserve-ak.last.fm/serve/252/60126439...     522  \n",
       "288  http://userserve-ak.last.fm/serve/252/53023109...     484  \n",
       "227  http://userserve-ak.last.fm/serve/252/2588646.jpg     480  \n",
       "300  http://userserve-ak.last.fm/serve/252/42128121...     473  \n",
       "67    http://userserve-ak.last.fm/serve/252/340387.jpg     429  \n",
       "333  http://userserve-ak.last.fm/serve/252/59708309...     417  \n",
       "292  http://userserve-ak.last.fm/serve/252/47363849...     407  \n",
       "190   http://userserve-ak.last.fm/serve/252/416514.jpg     400  \n",
       "498  http://userserve-ak.last.fm/serve/252/35837991...     399  "
      ]
     },
     "execution_count": 26,
     "metadata": {},
     "output_type": "execute_result"
    }
   ],
   "source": [
    "artists.merge(pd.DataFrame(user_artists.reset_index().groupby([\"artistID\"])[\"userID\"].agg(\"count\")), left_index=True, right_index=True).sort_values(by=[\"userID\"], ascending=False).head(10)"
   ]
  },
  {
   "cell_type": "markdown",
   "metadata": {},
   "source": [
    "Question 8: Linear Regression Plot"
   ]
  },
  {
   "cell_type": "code",
   "execution_count": 59,
   "metadata": {},
   "outputs": [
    {
     "data": {
      "image/png": "[encoded data removed]",
      "text/plain": [
       "<Figure size 432x288 with 1 Axes>"
      ]
     },
     "metadata": {},
     "output_type": "display_data"
    },
    {
     "name": "stdout",
     "output_type": "stream",
     "text": [
      "Correlation Matrix:\n",
      "          friendID  artistID\n",
      "friendID  1.000000  0.002163\n",
      "artistID  0.002163  1.000000\n",
      "\n",
      "intercept: 36.36977511014725\n",
      "coefficient: 0.06415555116623736\n"
     ]
    }
   ],
   "source": [
    "from scipy.stats import linregress\n",
    "df = pd.DataFrame(user_friends.reset_index().groupby([\"userID\"])[\"friendID\"].agg(\"count\"))\n",
    "results = df.merge(pd.DataFrame(user_taggedartists.reset_index().groupby([\"userID\"])[\"artistID\"].agg(lambda x: x.nunique())), left_index=True, right_index=True).sort_values(by=[\"friendID\"])\n",
    "\n",
    "X = results[\"friendID\"]\n",
    "y = results[\"artistID\"]\n",
    "from sklearn.model_selection import train_test_split\n",
    "X_train, X_test, y_train, y_test = train_test_split(X, y)\n",
    "from sklearn.linear_model import LinearRegression\n",
    "linreg = LinearRegression()\n",
    "linreg.fit(X_train.values.reshape(-1,1), y_train)\n",
    "plt.scatter(results[\"friendID\"], results[\"artistID\"], color=\"y\")\n",
    "plt.plot(X_test, linreg.predict(X_test.values.reshape(-1,1)), color=\"r\")\n",
    "plt.show()\n",
    "print(\"Correlation Matrix:\")\n",
    "print(results.corr())\n",
    "print()\n",
    "print(\"intercept: {}\".format(linreg.intercept_))\n",
    "print(\"coefficient: {}\".format(linreg.coef_[0]))"
   ]
  },
  {
   "cell_type": "markdown",
   "metadata": {},
   "source": [
    "It appears that there is little correlation between the variables, which indicates that a linear regression is not very reliable. This is mirrored by the poor RMSE, which is more than double the intercept:"
   ]
  },
  {
   "cell_type": "code",
   "execution_count": 65,
   "metadata": {},
   "outputs": [
    {
     "name": "stdout",
     "output_type": "stream",
     "text": [
      "RMSE:  85.33346196150475 artists\n"
     ]
    }
   ],
   "source": [
    "from sklearn import metrics\n",
    "import numpy as np\n",
    "\n",
    "y_true = results[\"artistID\"].values\n",
    "y_pred = linreg.predict(results[\"friendID\"].values.reshape(-1,1))\n",
    "print(\"RMSE:  {} artists\".format(np.sqrt(metrics.mean_squared_error(y_true, y_pred))))"
   ]
  }
 ],
 "metadata": {
  "kernelspec": {
   "display_name": "Python 3",
   "language": "python",
   "name": "python3"
  },
  "language_info": {
   "codemirror_mode": {
    "name": "ipython",
    "version": 3
   },
   "file_extension": ".py",
   "mimetype": "text/x-python",
   "name": "python",
   "nbconvert_exporter": "python",
   "pygments_lexer": "ipython3",
   "version": "3.7.0"
  }
 },
 "nbformat": 4,
 "nbformat_minor": 2
}
