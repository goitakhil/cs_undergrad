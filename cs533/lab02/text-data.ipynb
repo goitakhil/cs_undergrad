{
 "cells": [
  {
   "cell_type": "markdown",
   "metadata": {},
   "source": [
    "# Lab 02\n",
    "Tyler Bevan"
   ]
  },
  {
   "cell_type": "code",
   "execution_count": 1,
   "metadata": {},
   "outputs": [
    {
     "data": {
      "text/plain": [
       "'\\nMy document\\nMain text.\\n'"
      ]
     },
     "execution_count": 1,
     "metadata": {},
     "output_type": "execute_result"
    }
   ],
   "source": [
    "from bs4 import BeautifulSoup\n",
    "from urllib.request import urlopen\n",
    "htmlString = '''\n",
    "<HTML>\n",
    "<HEAD><TITLE>My document</TITLE></HEAD>\n",
    "<BODY>Main text.</BODY></HTML>\n",
    "'''\n",
    "soup = BeautifulSoup(htmlString, \"lxml\") # added lxml to prevent warning\n",
    "soup.get_text()\n"
   ]
  },
  {
   "cell_type": "code",
   "execution_count": 2,
   "metadata": {},
   "outputs": [
    {
     "data": {
      "text/plain": [
       "[('Networks of Music Groups as Success Predictors',\n",
       "  'http://www.slideshare.net/DmitryZinoviev/networks-of-music-groups-as-success-predictors'),\n",
       " ('Network Science Workshop',\n",
       "  'http://www.slideshare.net/DmitryZinoviev/workshop-20212296'),\n",
       " ('Resilience in Transaction-Oriented Networks',\n",
       "  'http://www.slideshare.net/DmitryZinoviev/resilience-in-transactional-networks')]"
      ]
     },
     "execution_count": 2,
     "metadata": {},
     "output_type": "execute_result"
    }
   ],
   "source": [
    "with urlopen(\"http://www.networksciencelab.com/\") as doc:\n",
    "    soup = BeautifulSoup(doc, \"lxml\") # added lxml\n",
    "links = [(link.string, link[\"href\"]) for link in soup.find_all(\"a\") if link.has_attr(\"href\")]\n",
    "links[:3] # just print a few of them"
   ]
  },
  {
   "cell_type": "code",
   "execution_count": 3,
   "metadata": {},
   "outputs": [
    {
     "data": {
      "text/plain": [
       "[Synset('cat.n.01'),\n",
       " Synset('guy.n.01'),\n",
       " Synset('cat.n.03'),\n",
       " Synset('kat.n.01'),\n",
       " Synset('cat-o'-nine-tails.n.01'),\n",
       " Synset('caterpillar.n.02'),\n",
       " Synset('big_cat.n.01'),\n",
       " Synset('computerized_tomography.n.01'),\n",
       " Synset('cat.v.01'),\n",
       " Synset('vomit.v.01')]"
      ]
     },
     "execution_count": 3,
     "metadata": {},
     "output_type": "execute_result"
    }
   ],
   "source": [
    "import nltk\n",
    "wn = nltk.corpus.wordnet\n",
    "wn.synsets(\"cat\")"
   ]
  },
  {
   "cell_type": "code",
   "execution_count": 4,
   "metadata": {},
   "outputs": [
    {
     "data": {
      "text/plain": [
       "'feline mammal usually having thick soft fur and no ability to roar: domestic cats; wildcats'"
      ]
     },
     "execution_count": 4,
     "metadata": {},
     "output_type": "execute_result"
    }
   ],
   "source": [
    "wn.synset(\"cat.n.01\").definition()"
   ]
  },
  {
   "cell_type": "code",
   "execution_count": 5,
   "metadata": {},
   "outputs": [
    {
     "data": {
      "text/plain": [
       "'an informal term for a youth or man'"
      ]
     },
     "execution_count": 5,
     "metadata": {},
     "output_type": "execute_result"
    }
   ],
   "source": [
    "wn.synset(\"cat.n.02\").definition()"
   ]
  },
  {
   "cell_type": "code",
   "execution_count": 6,
   "metadata": {},
   "outputs": [
    {
     "data": {
      "text/plain": [
       "[Synset('feline.n.01')]"
      ]
     },
     "execution_count": 6,
     "metadata": {},
     "output_type": "execute_result"
    }
   ],
   "source": [
    "wn.synset(\"cat.n.01\").hypernyms()"
   ]
  },
  {
   "cell_type": "code",
   "execution_count": 7,
   "metadata": {},
   "outputs": [
    {
     "data": {
      "text/plain": [
       "[Synset('domestic_cat.n.01'), Synset('wildcat.n.03')]"
      ]
     },
     "execution_count": 7,
     "metadata": {},
     "output_type": "execute_result"
    }
   ],
   "source": [
    "wn.synset(\"cat.n.01\").hyponyms()"
   ]
  },
  {
   "cell_type": "code",
   "execution_count": 8,
   "metadata": {},
   "outputs": [
    {
     "data": {
      "text/plain": [
       "0.04"
      ]
     },
     "execution_count": 8,
     "metadata": {},
     "output_type": "execute_result"
    }
   ],
   "source": [
    "x = wn.synset(\"cat.n.01\")\n",
    "y = wn.synset(\"lynx.n.01\")\n",
    "x.path_similarity(y)"
   ]
  },
  {
   "cell_type": "code",
   "execution_count": 9,
   "metadata": {},
   "outputs": [
    {
     "data": {
      "text/plain": [
       "['an informal term for a youth or man', 'informal term for a man']"
      ]
     },
     "execution_count": 9,
     "metadata": {},
     "output_type": "execute_result"
    }
   ],
   "source": [
    "[simxy.definition() for simxy in max(\n",
    "    (x.path_similarity(y), x, y)\n",
    "    for x in wn.synsets('cat')\n",
    "        for y in wn.synsets('dog')\n",
    "            if x.path_similarity(y)\n",
    "    )[1:]]"
   ]
  },
  {
   "cell_type": "code",
   "execution_count": 10,
   "metadata": {},
   "outputs": [
    {
     "data": {
      "text/plain": [
       "['}', 'Help', '!', ':)))', ':[', '.....', ':', 'D', '{']"
      ]
     },
     "execution_count": 10,
     "metadata": {},
     "output_type": "execute_result"
    }
   ],
   "source": [
    "from nltk.tokenize import WordPunctTokenizer\n",
    "word_punct = WordPunctTokenizer()\n",
    "text = \"}Help! :))) :[ ..... :D{\"\n",
    "word_punct.tokenize(text)"
   ]
  },
  {
   "cell_type": "code",
   "execution_count": 11,
   "metadata": {},
   "outputs": [
    {
     "data": {
      "text/plain": [
       "['}', 'Help', '!', ':', ')', ')', ')', ':', '[', '...', '..', ':', 'D', '{']"
      ]
     },
     "execution_count": 11,
     "metadata": {},
     "output_type": "execute_result"
    }
   ],
   "source": [
    "nltk.word_tokenize(text)"
   ]
  },
  {
   "cell_type": "code",
   "execution_count": 12,
   "metadata": {},
   "outputs": [
    {
     "data": {
      "text/plain": [
       "'wonder'"
      ]
     },
     "execution_count": 12,
     "metadata": {},
     "output_type": "execute_result"
    }
   ],
   "source": [
    "pstemmer = nltk.PorterStemmer()\n",
    "pstemmer.stem(\"wonderful\")"
   ]
  },
  {
   "cell_type": "code",
   "execution_count": 13,
   "metadata": {},
   "outputs": [
    {
     "data": {
      "text/plain": [
       "'wond'"
      ]
     },
     "execution_count": 13,
     "metadata": {},
     "output_type": "execute_result"
    }
   ],
   "source": [
    "lstemmer = nltk.LancasterStemmer()\n",
    "lstemmer.stem(\"wonderful\")"
   ]
  },
  {
   "cell_type": "code",
   "execution_count": 14,
   "metadata": {},
   "outputs": [
    {
     "data": {
      "text/plain": [
       "'wonderful'"
      ]
     },
     "execution_count": 14,
     "metadata": {},
     "output_type": "execute_result"
    }
   ],
   "source": [
    "lemmatizer = nltk.WordNetLemmatizer()\n",
    "lemmatizer.lemmatize(\"wonderful\")"
   ]
  },
  {
   "cell_type": "code",
   "execution_count": 16,
   "metadata": {
    "scrolled": false
   },
   "outputs": [
    {
     "data": {
      "text/plain": [
       "[('beautiful', 'JJ'), ('world', 'NN')]"
      ]
     },
     "execution_count": 16,
     "metadata": {},
     "output_type": "execute_result"
    }
   ],
   "source": [
    "nltk.pos_tag([\"beautiful\", \"world\"])"
   ]
  },
  {
   "cell_type": "code",
   "execution_count": 18,
   "metadata": {
    "scrolled": false
   },
   "outputs": [
    {
     "data": {
      "text/plain": [
       "[('h', 1), ('e', 1), ('l', 1), ('p', 1), ('d', 1)]"
      ]
     },
     "execution_count": 18,
     "metadata": {},
     "output_type": "execute_result"
    }
   ],
   "source": [
    "from bs4 import BeautifulSoup\n",
    "from collections import Counter\n",
    "from nltk.corpus import stopwords\n",
    "from nltk import LancasterStemmer\n",
    "ls = nltk.LancasterStemmer()\n",
    "with urlopen(\"http://www.networksciencelab.com/\") as doc:\n",
    "    soup = BeautifulSoup(doc, \"lxml\") # added lxml\n",
    "words = nltk.word_tokenize(soup.text)\n",
    "words = [w.lower() for w in words]\n",
    "words = [ls.stem(w) for w in text if w not in\n",
    "stopwords.words(\"english\") and w.isalnum()]\n",
    "freqs = Counter(words)\n",
    "freqs.most_common(10)"
   ]
  },
  {
   "cell_type": "markdown",
   "metadata": {},
   "source": [
    "## Broken Link Detector\n",
    "I decided to only check for http errors, since urlopen will also error on unknown file types,\n",
    "which are not necessarily errors."
   ]
  },
  {
   "cell_type": "code",
   "execution_count": 19,
   "metadata": {},
   "outputs": [
    {
     "name": "stdout",
     "output_type": "stream",
     "text": [
      "Broken:\n",
      "HTTP Error 404: Not Found\n",
      "http://dhj.sagepub.com/content/2/2055207616642118.full  ->  D. Zinoviev, D. Stefanescu, G. Fireman, and L. Swenson, \"Semantic networks of interests in online non-suicidal self-injury communities,\"\n",
      "Broken:\n",
      "HTTP Error 403: Forbidden\n",
      "http://www.mitpressjournals.org/doi/abs/10.1162/LEON_a_01271#.VzOvwHUrKzc  ->  D.Zinoviev, \"The Pain of Complexity,\"\n",
      "Broken:\n",
      "HTTP Error 403: Forbidden\n",
      "http://dl.acm.org/citation.cfm?id=2499974  ->  D.Zinoviev, H.Benbrahim, G.Meszoely, and D.Stefanescu, \"Simulating resilience in transaction-oriented networks,\"\n",
      "Broken:\n",
      "HTTP Error 403: Forbidden\n",
      "http://dl.acm.org/citation.cfm?id=2208181  ->  D.Zinoviev, \"Information diffusion in social networks,\"\n",
      "Broken:\n",
      "HTTP Error 403: Forbidden\n",
      "http://dl.acm.org/citation.cfm?id=2048377  ->  D.Zinoviev and V.Duong, \"A game theoretical approach to broadcast  information diffusion in social networks,\"\n",
      "Broken:\n",
      "HTTP Error 403: Forbidden\n",
      "http://dl.acm.org/citation.cfm?id=1999462  ->  D.Zinoviev and V.Duong, \"A game theoretical approach to modeling full-duplex information dissemination,\"\n",
      "Broken:\n",
      "HTTP Error 999: Request denied\n",
      "https://www.linkedin.com/pub/dmitry-zinoviev/4/a78/27b  ->  LinkedIn\n",
      "Broken:\n",
      "HTTP Error 429: Too Many Requests\n",
      "https://www.researchgate.net/profile/Dmitry_Zinoviev  ->  ResearchGate\n"
     ]
    }
   ],
   "source": [
    "from bs4 import BeautifulSoup\n",
    "import urllib\n",
    "from urllib.request import urlopen\n",
    "\n",
    "url = \"http://www.networksciencelab.com/\"\n",
    "\n",
    "with urlopen(url) as doc:\n",
    "    soup = BeautifulSoup(doc, \"lxml\")\n",
    "links = [(link.string, link[\"href\"]) for link in soup.find_all(\"a\") if link.has_attr(\"href\")]\n",
    "for name, link in links:\n",
    "    try:\n",
    "        urlopen(link)\n",
    "    except urllib.error.HTTPError as e:\n",
    "        print(\"Broken:\")\n",
    "        print(e)\n",
    "        print(\"{}  ->  {}\".format(link, name))\n",
    "    except:\n",
    "        pass"
   ]
  },
  {
   "cell_type": "code",
   "execution_count": null,
   "metadata": {},
   "outputs": [],
   "source": []
  }
 ],
 "metadata": {
  "kernelspec": {
   "display_name": "Python 3",
   "language": "python",
   "name": "python3"
  },
  "language_info": {
   "codemirror_mode": {
    "name": "ipython",
    "version": 3
   },
   "file_extension": ".py",
   "mimetype": "text/x-python",
   "name": "python",
   "nbconvert_exporter": "python",
   "pygments_lexer": "ipython3",
   "version": "3.7.0"
  }
 },
 "nbformat": 4,
 "nbformat_minor": 2
}
